{
 "cells": [
  {
   "cell_type": "code",
   "execution_count": 1,
   "metadata": {},
   "outputs": [
    {
     "name": "stdout",
     "output_type": "stream",
     "text": [
      "CSV file 'supplier_data.csv' created successfully!\n"
     ]
    }
   ],
   "source": [
    "import pandas as pd\n",
    "\n",
    "# Create a DataFrame with the fake data\n",
    "data = {\n",
    "    'Supplier': ['A', 'B', 'C', 'D'],\n",
    "    'Supply Capacity': [500, 600, 400, 300],\n",
    "    'Cost per kg': [20, 15, 18, 22],\n",
    "    'Carbon Footprint per kg': [4, 3, 5, 2.5],\n",
    "    'Quality Score': [90, 85, 80, 88],\n",
    "    'Wage per kg': [6, 5, 4, 5.5]\n",
    "}\n",
    "\n",
    "df = pd.DataFrame(data)\n",
    "\n",
    "# Save the DataFrame to a CSV file\n",
    "df.to_csv('supplier_data.csv', index=False)\n",
    "\n",
    "print(\"CSV file 'supplier_data.csv' created successfully!\")"
   ]
  }
 ],
 "metadata": {
  "kernelspec": {
   "display_name": "base",
   "language": "python",
   "name": "python3"
  },
  "language_info": {
   "codemirror_mode": {
    "name": "ipython",
    "version": 3
   },
   "file_extension": ".py",
   "mimetype": "text/x-python",
   "name": "python",
   "nbconvert_exporter": "python",
   "pygments_lexer": "ipython3",
   "version": "3.11.8"
  }
 },
 "nbformat": 4,
 "nbformat_minor": 2
}
